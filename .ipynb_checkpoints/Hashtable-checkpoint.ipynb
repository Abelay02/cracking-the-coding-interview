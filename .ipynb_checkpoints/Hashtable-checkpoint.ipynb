{
 "cells": [
  {
   "cell_type": "code",
   "execution_count": 43,
   "id": "2715352f-dffe-4d0c-a716-d797983e3820",
   "metadata": {},
   "outputs": [],
   "source": [
    "class HashTable:\n",
    "    hashtable = []\n",
    "    keys = set()\n",
    "\n",
    "    def hashLocation(x):\n",
    "        x = hash(x)\n",
    "        x %= len(this.hashtable)\n",
    "        print(x)\n",
    "\n",
    "    def get(key):\n",
    "        if key not in keys:\n",
    "            raise KeyError(f'Key {key} not found in hash table.')\n",
    "\n",
    "    def tempadd(val):\n",
    "        self.hashtable.append(val)\n",
    "        \n",
    "\n",
    "\n",
    "    \n",
    "    # \"\"\"A simple example class\"\"\"\n",
    "    # i = 12345\n",
    "\n",
    "    # def f(self):\n",
    "    #     return 'hello world'"
   ]
  },
  {
   "cell_type": "code",
   "execution_count": 2,
   "id": "be7ede6c-72a8-4d3b-8c2d-8222ce2ce824",
   "metadata": {},
   "outputs": [],
   "source": [
    "def printit(x):\n",
    "    print(x)"
   ]
  },
  {
   "cell_type": "code",
   "execution_count": 3,
   "id": "53f89400-4942-4d3c-aee6-f573088894d2",
   "metadata": {},
   "outputs": [
    {
     "name": "stdout",
     "output_type": "stream",
     "text": [
      "True\n"
     ]
    }
   ],
   "source": [
    "printit(True)"
   ]
  },
  {
   "cell_type": "code",
   "execution_count": 4,
   "id": "28811f50-4656-4a88-b096-1036dffd2261",
   "metadata": {},
   "outputs": [
    {
     "name": "stdout",
     "output_type": "stream",
     "text": [
      "abc\n"
     ]
    }
   ],
   "source": [
    "printit(\"abc\")"
   ]
  },
  {
   "cell_type": "code",
   "execution_count": 5,
   "id": "b920d690-ad8b-4697-b6a7-b6c642976cd3",
   "metadata": {},
   "outputs": [],
   "source": [
    "tests = set()"
   ]
  },
  {
   "cell_type": "code",
   "execution_count": 6,
   "id": "2a8c9e4b-c805-4706-bff2-b6093b04fd05",
   "metadata": {},
   "outputs": [],
   "source": [
    "tests.add('a')"
   ]
  },
  {
   "cell_type": "code",
   "execution_count": 7,
   "id": "fc628bb8-0525-4ae4-87c1-2a65b8d04e46",
   "metadata": {},
   "outputs": [
    {
     "data": {
      "text/plain": [
       "{'a'}"
      ]
     },
     "execution_count": 7,
     "metadata": {},
     "output_type": "execute_result"
    }
   ],
   "source": [
    "tests"
   ]
  },
  {
   "cell_type": "code",
   "execution_count": 10,
   "id": "758d3f85-36f1-47f0-b23d-37e661e2fec0",
   "metadata": {},
   "outputs": [
    {
     "ename": "ValueError",
     "evalue": "invalid literal for int() with base 10: 'a'",
     "output_type": "error",
     "traceback": [
      "\u001b[0;31m---------------------------------------------------------------------------\u001b[0m",
      "\u001b[0;31mValueError\u001b[0m                                Traceback (most recent call last)",
      "Cell \u001b[0;32mIn[10], line 1\u001b[0m\n\u001b[0;32m----> 1\u001b[0m \u001b[38;5;28;43mint\u001b[39;49m\u001b[43m(\u001b[49m\u001b[38;5;124;43m'\u001b[39;49m\u001b[38;5;124;43ma\u001b[39;49m\u001b[38;5;124;43m'\u001b[39;49m\u001b[43m)\u001b[49m\n",
      "\u001b[0;31mValueError\u001b[0m: invalid literal for int() with base 10: 'a'"
     ]
    }
   ],
   "source": [
    "int('a')"
   ]
  },
  {
   "cell_type": "code",
   "execution_count": 27,
   "id": "d0988007-4289-4bdc-9849-57d26535c531",
   "metadata": {},
   "outputs": [],
   "source": []
  },
  {
   "cell_type": "code",
   "execution_count": 28,
   "id": "9c825228-33b3-48c1-a306-c7366ca86834",
   "metadata": {},
   "outputs": [
    {
     "name": "stdout",
     "output_type": "stream",
     "text": [
      "281405450amany\n"
     ]
    }
   ],
   "source": [
    "hash_function(HashTable())"
   ]
  },
  {
   "cell_type": "code",
   "execution_count": 33,
   "id": "4373d694-920f-4b67-8f94-96d46dabd9c9",
   "metadata": {},
   "outputs": [],
   "source": [
    "def testf(x):\n",
    "    x%=3\n",
    "    return x"
   ]
  },
  {
   "cell_type": "code",
   "execution_count": 35,
   "id": "57e4564b-7e23-4381-8af4-d6951522a880",
   "metadata": {},
   "outputs": [
    {
     "data": {
      "text/plain": [
       "1"
      ]
     },
     "execution_count": 35,
     "metadata": {},
     "output_type": "execute_result"
    }
   ],
   "source": [
    "testf(13)"
   ]
  },
  {
   "cell_type": "code",
   "execution_count": 39,
   "id": "d7f1171e-073c-46ad-a2bf-d57fbfc958d8",
   "metadata": {},
   "outputs": [],
   "source": [
    "testtable = HashTable()"
   ]
  },
  {
   "cell_type": "code",
   "execution_count": 40,
   "id": "6f620902-bbfb-4f4a-b590-4e31ef8f3807",
   "metadata": {},
   "outputs": [
    {
     "data": {
      "text/plain": [
       "[]"
      ]
     },
     "execution_count": 40,
     "metadata": {},
     "output_type": "execute_result"
    }
   ],
   "source": [
    "testtable.hashtable"
   ]
  },
  {
   "cell_type": "code",
   "execution_count": 44,
   "id": "a4edede1-be32-4ee4-baca-fa62fa268486",
   "metadata": {},
   "outputs": [
    {
     "ename": "TypeError",
     "evalue": "tempadd() takes 1 positional argument but 2 were given",
     "output_type": "error",
     "traceback": [
      "\u001b[0;31m---------------------------------------------------------------------------\u001b[0m",
      "\u001b[0;31mTypeError\u001b[0m                                 Traceback (most recent call last)",
      "Cell \u001b[0;32mIn[44], line 1\u001b[0m\n\u001b[0;32m----> 1\u001b[0m \u001b[43mtesttable\u001b[49m\u001b[38;5;241;43m.\u001b[39;49m\u001b[43mtempadd\u001b[49m\u001b[43m(\u001b[49m\u001b[38;5;124;43m\"\u001b[39;49m\u001b[38;5;124;43mamany\u001b[39;49m\u001b[38;5;124;43m\"\u001b[39;49m\u001b[43m)\u001b[49m\n",
      "\u001b[0;31mTypeError\u001b[0m: tempadd() takes 1 positional argument but 2 were given"
     ]
    }
   ],
   "source": [
    "testtable.tempadd(\"amany\")"
   ]
  },
  {
   "cell_type": "code",
   "execution_count": null,
   "id": "fad69a8a-6394-441d-ad59-87a4612ce363",
   "metadata": {},
   "outputs": [],
   "source": []
  }
 ],
 "metadata": {
  "kernelspec": {
   "display_name": "Python 3 (ipykernel)",
   "language": "python",
   "name": "python3"
  },
  "language_info": {
   "codemirror_mode": {
    "name": "ipython",
    "version": 3
   },
   "file_extension": ".py",
   "mimetype": "text/x-python",
   "name": "python",
   "nbconvert_exporter": "python",
   "pygments_lexer": "ipython3",
   "version": "3.9.6"
  }
 },
 "nbformat": 4,
 "nbformat_minor": 5
}
