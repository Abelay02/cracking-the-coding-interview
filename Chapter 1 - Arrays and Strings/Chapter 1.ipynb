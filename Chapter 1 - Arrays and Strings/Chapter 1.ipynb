{
 "cells": [
  {
   "cell_type": "markdown",
   "id": "310aa1ea-f6cf-4889-a974-16f26567ff1b",
   "metadata": {},
   "source": [
    "### 1.1 \n",
    "**Is Unique**: Implement an algorithm to determine if a string has all unique characters. What if you cannot use additional data structures?"
   ]
  },
  {
   "cell_type": "code",
   "execution_count": 44,
   "id": "c578d7d6-1808-44a2-8ee7-59754b62332b",
   "metadata": {},
   "outputs": [],
   "source": [
    "# simple solution using python built in set\n",
    "def isUnique(s):\n",
    "    seenChars = set()\n",
    "    for char in s:\n",
    "        if char in seenChars:\n",
    "            return False\n",
    "        seenChars.add(char)\n",
    "    return True      \n",
    "\n",
    "# solution not using a dictionary or a set. Sort the characters and then pass through once looking for consecutive same chars.\n",
    "# I chose to implement quicksort for practice. Algo would be better using Python's built-in sorted() method.\n",
    "def isUniqueAlt(s):\n",
    "    sortedChars = quicksort(list(s))\n",
    "    for i in range(len(sortedChars)-1):\n",
    "        if sortedChars[i] == sortedChars[i+1]:\n",
    "            return False\n",
    "    return True\n",
    "\n",
    "# bit manipulation solution. Doesn't use any extra data structures besides a single int (checker). O(1) space complexity\n",
    "def isUniqueBitwise(s):\n",
    "    checker = 0\n",
    "    for char in s:\n",
    "        addr = ord(char)\n",
    "        if (checker & (1 << addr)) != 0:\n",
    "            return False\n",
    "        checker |= (1 << addr)\n",
    "    return True\n",
    "    "
   ]
  },
  {
   "cell_type": "markdown",
   "id": "afa68f99-578c-482c-b56b-720a10e32e7a",
   "metadata": {},
   "source": [
    "### 1.2\n",
    "**Check Permutation**: Given two strings, write a method to decide if one is a permutation of the\n",
    "other. "
   ]
  },
  {
   "cell_type": "code",
   "execution_count": null,
   "id": "01039968-20ac-403d-8aa8-195c52ff9f68",
   "metadata": {},
   "outputs": [],
   "source": []
  },
  {
   "cell_type": "code",
   "execution_count": null,
   "id": "ff39e175-92d2-4ba3-8a2d-4fbf317dba43",
   "metadata": {},
   "outputs": [],
   "source": []
  },
  {
   "cell_type": "code",
   "execution_count": null,
   "id": "58e89f63-67f0-4baf-aa90-643bc380c8ca",
   "metadata": {},
   "outputs": [],
   "source": []
  },
  {
   "cell_type": "code",
   "execution_count": null,
   "id": "69afce1c-8500-49d8-8bad-2b92f208be97",
   "metadata": {},
   "outputs": [],
   "source": []
  },
  {
   "cell_type": "code",
   "execution_count": null,
   "id": "c1c17f03-846a-41dd-bf18-c90f1c03f03b",
   "metadata": {},
   "outputs": [],
   "source": []
  },
  {
   "cell_type": "code",
   "execution_count": null,
   "id": "72796bdb-49f2-4b7c-a77b-6393fe4fa045",
   "metadata": {},
   "outputs": [],
   "source": []
  },
  {
   "cell_type": "markdown",
   "id": "5ad132fd-9295-446b-be2f-38042d44de33",
   "metadata": {},
   "source": [
    "### Helper functions defined here"
   ]
  },
  {
   "cell_type": "code",
   "execution_count": 32,
   "id": "9ff5594e-c3c5-472b-8c9d-548d54b7b262",
   "metadata": {},
   "outputs": [],
   "source": [
    "def quicksort(s):\n",
    "    if len(s) <= 1:\n",
    "        return s\n",
    "    pivot = random.randint(0, len(s)-1)\n",
    "    pivotVal = s[pivot]\n",
    "\n",
    "    less_list = []\n",
    "    middle_list = []\n",
    "    greater_list = []\n",
    "\n",
    "    for char in s:\n",
    "        if char == pivotVal:\n",
    "            middle_list.append(char)\n",
    "        elif char < pivotVal:\n",
    "            less_list.append(char)\n",
    "        else:\n",
    "            greater_list.append(char)\n",
    "\n",
    "    return quicksort(less_list) + middle_list + quicksort(greater_list)"
   ]
  },
  {
   "cell_type": "markdown",
   "id": "f4eb1f13-4f46-448d-b643-4b8e5d92d715",
   "metadata": {},
   "source": [
    "### import statements here"
   ]
  },
  {
   "cell_type": "code",
   "execution_count": 28,
   "id": "8c64aaa9-1483-4ad6-a80f-b17ba5a42fdd",
   "metadata": {},
   "outputs": [],
   "source": [
    "import random"
   ]
  },
  {
   "cell_type": "code",
   "execution_count": null,
   "id": "bbc6e9d2-2821-44e0-8c10-9efba375386b",
   "metadata": {},
   "outputs": [],
   "source": []
  }
 ],
 "metadata": {
  "kernelspec": {
   "display_name": "Python 3 (ipykernel)",
   "language": "python",
   "name": "python3"
  },
  "language_info": {
   "codemirror_mode": {
    "name": "ipython",
    "version": 3
   },
   "file_extension": ".py",
   "mimetype": "text/x-python",
   "name": "python",
   "nbconvert_exporter": "python",
   "pygments_lexer": "ipython3",
   "version": "3.9.6"
  }
 },
 "nbformat": 4,
 "nbformat_minor": 5
}
