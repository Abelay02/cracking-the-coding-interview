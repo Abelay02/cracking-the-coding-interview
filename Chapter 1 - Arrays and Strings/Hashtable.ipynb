{
 "cells": [
  {
   "cell_type": "code",
   "execution_count": 3,
   "id": "2715352f-dffe-4d0c-a716-d797983e3820",
   "metadata": {},
   "outputs": [],
   "source": [
    "class HashTable:\n",
    "\n",
    "    def __init__(self):\n",
    "        self.hashtable = [None]*8\n",
    "        self.keys = set()\n",
    "\n",
    "    def get(self, key):\n",
    "        if key not in self.keys:\n",
    "            raise KeyError(f'Key {key} not found in hash table.')\n",
    "        location = self._hash_location(key)\n",
    "\n",
    "        for i in range(len(self.hashtable)):\n",
    "            # modified index variable. Allows us to start at 'location' and loop around the hashtable\n",
    "            mod_ind = (i + location) % len(self.hashtable)\n",
    "\n",
    "            if (self.hashtable[mod_ind] != None) and (self.hashtable[mod_ind][0] == key):\n",
    "                return self.hashtable[mod_ind][1]\n",
    "            \n",
    "        \n",
    "\n",
    "    def add(self, key, val, rehash=False):\n",
    "        location = self._hash_location(key)\n",
    "\n",
    "        if key in self.keys and rehash==False: # key is already being used. Search for its entry and replace the value\n",
    "            for i in range(len(self.hashtable)):\n",
    "                # modified index variable. Allows us to start at 'location' and loop around the hashtable\n",
    "                mod_ind = (i + location) % len(self.hashtable)\n",
    "                if self.hashtable[mod_ind][0] == key:\n",
    "                    self.hashtable[mod_ind] = (key, val)\n",
    "                    break\n",
    "            \n",
    "        else: # key is not being used. Find first available slot in table and insert key/val pair\n",
    "            self.keys.add(key)\n",
    "            for i in range(len(self.hashtable)):\n",
    "                # modified index variable. Allows us to start at 'location' and loop around the hashtable\n",
    "                mod_ind = (i + location) % len(self.hashtable)\n",
    "                if self.hashtable[mod_ind] == None:\n",
    "                    self.hashtable[mod_ind] = (key, val)\n",
    "                    break\n",
    "        \n",
    "        if len(self.keys) > int(0.7 * len(self.hashtable)):\n",
    "            self._rehash()\n",
    "\n",
    "        return True\n",
    "\n",
    "\n",
    "    def delete(self, key):\n",
    "        if key not in self.keys:\n",
    "            raise KeyError(f'Key {key} not found in hash table.')\n",
    "        location = self._hash_location(key)\n",
    "        for i in range(len(self.hashtable)):\n",
    "            # modified index variable. Allows us to start at 'location' and loop around the hashtable\n",
    "            mod_ind = (i + location) % len(self.hashtable)   \n",
    "            if self.hashtable[mod_ind][0] == key:\n",
    "                self.hashtable[mod_ind] = None\n",
    "                self.keys.remove(key)\n",
    "                break\n",
    "        return True\n",
    "                \n",
    "\n",
    "    def _rehash(self):\n",
    "        temptable = self.hashtable\n",
    "        self.hashtable = [None]*(2*len(temptable))\n",
    "        for kvpair in temptable:\n",
    "            if kvpair != None:\n",
    "                self.add(kvpair[0], kvpair[1], rehash=True)\n",
    "        return True\n",
    "\n",
    "        \n",
    "    \n",
    "    def _hash_location(self, key):\n",
    "        \"\"\"hash a key (any data type) to get a large int. Modulo by hashtable length to \n",
    "        determine hashtable 'address' of kv pair \"\"\"\n",
    "        x = hash(key)\n",
    "        x %= len(self.hashtable)\n",
    "        return(x)    \n"
   ]
  },
  {
   "cell_type": "code",
   "execution_count": 4,
   "id": "d7f1171e-073c-46ad-a2bf-d57fbfc958d8",
   "metadata": {},
   "outputs": [],
   "source": [
    "testtable = HashTable()"
   ]
  },
  {
   "cell_type": "code",
   "execution_count": 5,
   "id": "be7ede6c-72a8-4d3b-8c2d-8222ce2ce824",
   "metadata": {},
   "outputs": [
    {
     "data": {
      "text/plain": [
       "'4347'"
      ]
     },
     "execution_count": 5,
     "metadata": {},
     "output_type": "execute_result"
    }
   ],
   "source": [
    "testtable.add('r', '437')\n",
    "testtable.add('b', '437')\n",
    "testtable.add('c', '4347')\n",
    "testtable.add('x', '437')\n",
    "testtable.add('s', '437')\n",
    "testtable.add('k', '4347')\n",
    "testtable.add('y', '437')\n",
    "testtable.add('e', '43r7')\n",
    "testtable.get('c')"
   ]
  },
  {
   "cell_type": "code",
   "execution_count": 6,
   "id": "53f89400-4942-4d3c-aee6-f573088894d2",
   "metadata": {},
   "outputs": [
    {
     "data": {
      "text/plain": [
       "[('b', '437'),\n",
       " None,\n",
       " ('k', '4347'),\n",
       " None,\n",
       " None,\n",
       " ('y', '437'),\n",
       " ('r', '437'),\n",
       " ('e', '43r7'),\n",
       " None,\n",
       " ('c', '4347'),\n",
       " ('x', '437'),\n",
       " None,\n",
       " ('s', '437'),\n",
       " None,\n",
       " None,\n",
       " None]"
      ]
     },
     "execution_count": 6,
     "metadata": {},
     "output_type": "execute_result"
    }
   ],
   "source": [
    "testtable.hashtable"
   ]
  },
  {
   "cell_type": "code",
   "execution_count": 8,
   "id": "9007110a-35b2-4a06-ad61-ba96f93e59da",
   "metadata": {},
   "outputs": [
    {
     "data": {
      "text/plain": [
       "True"
      ]
     },
     "execution_count": 8,
     "metadata": {},
     "output_type": "execute_result"
    }
   ],
   "source": [
    "testtable.delete('s')"
   ]
  },
  {
   "cell_type": "code",
   "execution_count": null,
   "id": "3710b62d-6f0f-45e2-b507-b5ea51606823",
   "metadata": {},
   "outputs": [],
   "source": []
  },
  {
   "cell_type": "code",
   "execution_count": null,
   "id": "0531c79f-f7e0-4afe-aa3b-3c8dece3fd90",
   "metadata": {},
   "outputs": [],
   "source": []
  },
  {
   "cell_type": "code",
   "execution_count": null,
   "id": "2ec2f095-631a-4edf-9aba-20c8f8048f02",
   "metadata": {},
   "outputs": [],
   "source": []
  },
  {
   "cell_type": "code",
   "execution_count": null,
   "id": "e08cda85-f470-4dc9-ae1b-3a5f0275b400",
   "metadata": {},
   "outputs": [],
   "source": []
  }
 ],
 "metadata": {
  "kernelspec": {
   "display_name": "Python 3 (ipykernel)",
   "language": "python",
   "name": "python3"
  },
  "language_info": {
   "codemirror_mode": {
    "name": "ipython",
    "version": 3
   },
   "file_extension": ".py",
   "mimetype": "text/x-python",
   "name": "python",
   "nbconvert_exporter": "python",
   "pygments_lexer": "ipython3",
   "version": "3.9.6"
  }
 },
 "nbformat": 4,
 "nbformat_minor": 5
}
